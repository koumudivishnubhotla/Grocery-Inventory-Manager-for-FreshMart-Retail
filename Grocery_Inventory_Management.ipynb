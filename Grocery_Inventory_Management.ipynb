{
  "nbformat": 4,
  "nbformat_minor": 0,
  "metadata": {
    "colab": {
      "provenance": [],
      "authorship_tag": "ABX9TyOmRW5qWatsruoEc9UNKS17",
      "include_colab_link": true
    },
    "kernelspec": {
      "name": "python3",
      "display_name": "Python 3"
    },
    "language_info": {
      "name": "python"
    }
  },
  "cells": [
    {
      "cell_type": "markdown",
      "metadata": {
        "id": "view-in-github",
        "colab_type": "text"
      },
      "source": [
        "<a href=\"https://colab.research.google.com/github/koumudivishnubhotla/Grocery-Inventory-Manager-for-FreshMart-Retail/blob/main/Grocery_Inventory_Management.ipynb\" target=\"_parent\"><img src=\"https://colab.research.google.com/assets/colab-badge.svg\" alt=\"Open In Colab\"/></a>"
      ]
    },
    {
      "cell_type": "code",
      "source": [
        "from google.colab import drive\n",
        "drive.mount('/content/drive')"
      ],
      "metadata": {
        "id": "yyrPv1W2DE1G"
      },
      "execution_count": null,
      "outputs": []
    },
    {
      "cell_type": "markdown",
      "source": [
        "Project Name: GROCERY INVENTORY MANAGEMENT"
      ],
      "metadata": {
        "id": "V9PhV-HiFhGI"
      }
    },
    {
      "cell_type": "markdown",
      "source": [
        "Business Context: FreshMart Retail, a local grocery store chain, needs a system to manage its inventory effectively. This project aims to develop a tool to track grocery stock, monitor purchase status, and reduce overstocking or shortages."
      ],
      "metadata": {
        "id": "nm8JQHRtFjj1"
      }
    },
    {
      "cell_type": "code",
      "source": [
        "import ipywidgets as widgets\n",
        "from IPython.display import display\n",
        "import pandas as pd\n",
        "import matplotlib.pyplot as plt"
      ],
      "metadata": {
        "id": "p0Eo-xJwDu4X"
      },
      "execution_count": null,
      "outputs": []
    },
    {
      "cell_type": "code",
      "source": [
        "# Inventory file to store data\n",
        "inventory_file = 'freshmart_inventory.txt'\n",
        "open(inventory_file, 'a').close()"
      ],
      "metadata": {
        "id": "JzZ9ZzxlEFFs"
      },
      "execution_count": null,
      "outputs": []
    },
    {
      "cell_type": "code",
      "source": [
        "# Stock thresholds\n",
        "LOW_STOCK_THRESHOLD = 5\n",
        "OVERSTOCK_THRESHOLD = 100"
      ],
      "metadata": {
        "id": "Dd2AGywiEI-U"
      },
      "execution_count": null,
      "outputs": []
    },
    {
      "cell_type": "code",
      "source": [
        "#Helper Functions\n",
        "def read_inventory():\n",
        "    with open(inventory_file, 'r') as f:\n",
        "        return [line.strip().split(',') for line in f if line.strip()]\n",
        "\n",
        "def write_inventory(data):\n",
        "    with open(inventory_file, 'w') as f:\n",
        "        for name, qty in data:\n",
        "            f.write(f\"{name},{qty}\\n\")"
      ],
      "metadata": {
        "id": "eXmGmuiJELrQ"
      },
      "execution_count": null,
      "outputs": []
    },
    {
      "cell_type": "code",
      "source": [
        "#Inventory Functions\n",
        "def add_inventory(_):\n",
        "    name = item_name_input.value.strip()\n",
        "    qty = item_qty_input.value\n",
        "    if not name:\n",
        "        result_area.value = \"Please enter a valid item name.\"\n",
        "        return\n",
        "    with open(inventory_file, 'a') as f:\n",
        "        f.write(f\"{name},{qty}\\n\")\n",
        "    result_area.value = f\"Item '{name}' added with quantity {qty}.\"\n",
        "    item_name_input.value, item_qty_input.value = \"\", 0\n",
        "    check_stock_levels(name, qty)\n",
        "\n",
        "def update_inventory(_):\n",
        "    name = item_name_input.value.strip()\n",
        "    qty = str(item_qty_input.value)\n",
        "    data = read_inventory()\n",
        "    updated = False\n",
        "    for i, (item, _) in enumerate(data):\n",
        "        if item == name:\n",
        "            data[i] = (item, qty)\n",
        "            updated = True\n",
        "    write_inventory(data)\n",
        "    result_area.value = f\"{'Updated' if updated else 'Item not found'}: {name}\"\n",
        "    item_name_input.value, item_qty_input.value = \"\", 0\n",
        "    if updated:\n",
        "        check_stock_levels(name, int(qty))\n",
        "\n",
        "def search_inventory(_):\n",
        "    name = item_name_input.value.strip()\n",
        "    for item, qty in read_inventory():\n",
        "        if item == name:\n",
        "            result_area.value = f\"{item} - {qty} units in stock.\"\n",
        "            return\n",
        "    result_area.value = f\"{name} not found in inventory.\"\n",
        "\n",
        "def remove_inventory(_):\n",
        "    name = item_name_input.value.strip()\n",
        "    data = read_inventory()\n",
        "    new_data = [(item, qty) for item, qty in data if item != name]\n",
        "    removed = len(new_data) != len(data)\n",
        "    write_inventory(new_data)\n",
        "    result_area.value = f\"{'Removed' if removed else 'Item not found'}: {name}\"\n",
        "    item_name_input.value, item_qty_input.value = \"\", 0\n",
        "\n",
        "def generate_inventory(_):\n",
        "    data = read_inventory()\n",
        "    if not data:\n",
        "        result_area.value = \"Inventory is currently empty.\"\n",
        "    else:\n",
        "        inventory_text = \"\\n\".join([f\"{item}: {qty} units\" for item, qty in data])\n",
        "        result_area.value = f\"FreshMart Inventory:\\n{inventory_text}\"\n",
        "\n",
        "def check_stock_levels(item_name, qty):\n",
        "    if qty <= LOW_STOCK_THRESHOLD:\n",
        "        result_area.value += f\"\\n Warning: '{item_name}' is running low. Consider reordering.\"\n",
        "    elif qty >= OVERSTOCK_THRESHOLD:\n",
        "        result_area.value += f\"\\n Notice: '{item_name}' may be overstocked. Review purchase strategy.\""
      ],
      "metadata": {
        "id": "H5W3rTQZETNk"
      },
      "execution_count": null,
      "outputs": []
    },
    {
      "cell_type": "code",
      "source": [
        "#Analytics Functions\n",
        "def load_inventory_as_df():\n",
        "    data = read_inventory()\n",
        "    if not data:\n",
        "        return pd.DataFrame(columns=[\"Item\", \"Quantity\"])\n",
        "    df = pd.DataFrame(data, columns=[\"Item\", \"Quantity\"])\n",
        "    df[\"Quantity\"] = df[\"Quantity\"].astype(int)\n",
        "    return df\n",
        "\n",
        "def show_inventory_summary(_):\n",
        "    df = load_inventory_as_df()\n",
        "    if df.empty:\n",
        "        result_area.value = \"Inventory is empty. No data to analyze.\"\n",
        "        return\n",
        "\n",
        "    total_items = df.shape[0]\n",
        "    total_quantity = df[\"Quantity\"].sum()\n",
        "    low_stock_items = df[df[\"Quantity\"] <= LOW_STOCK_THRESHOLD]\n",
        "    overstock_items = df[df[\"Quantity\"] >= OVERSTOCK_THRESHOLD]\n",
        "\n",
        "    summary = (\n",
        "        f\" Inventory Summary:\\n\"\n",
        "        f\"- Total Items: {total_items}\\n\"\n",
        "        f\"- Total Quantity in Stock: {total_quantity}\\n\"\n",
        "        f\"- Low Stock Items: {len(low_stock_items)}\\n\"\n",
        "        f\"- Overstocked Items: {len(overstock_items)}\\n\"\n",
        "    )\n",
        "    result_area.value = summary\n",
        "\n",
        "def plot_stock_levels(_):\n",
        "    df = load_inventory_as_df()\n",
        "    if df.empty:\n",
        "        result_area.value = \"Inventory is empty. No chart to display.\"\n",
        "        return\n",
        "\n",
        "    plt.figure(figsize=(8, 4))\n",
        "    bars = plt.bar(df[\"Item\"], df[\"Quantity\"], color=\"skyblue\")\n",
        "\n",
        "    for bar, qty in zip(bars, df[\"Quantity\"]):\n",
        "        if qty <= LOW_STOCK_THRESHOLD:\n",
        "            bar.set_color('orange')\n",
        "        elif qty >= OVERSTOCK_THRESHOLD:\n",
        "            bar.set_color('red')\n",
        "\n",
        "    plt.axhline(LOW_STOCK_THRESHOLD, color='orange', linestyle='--', label='Low Stock Threshold')\n",
        "    plt.axhline(OVERSTOCK_THRESHOLD, color='red', linestyle='--', label='Overstock Threshold')\n",
        "    plt.title(\" Inventory Stock Levels\")\n",
        "    plt.ylabel(\"Quantity\")\n",
        "    plt.xticks(rotation=45)\n",
        "    plt.legend()\n",
        "    plt.tight_layout()\n",
        "    plt.show()"
      ],
      "metadata": {
        "id": "FFVIyokPEbP_"
      },
      "execution_count": null,
      "outputs": []
    },
    {
      "cell_type": "code",
      "source": [
        "#UI Widgets\n",
        "item_name_input = widgets.Text(description=\"Item Name:\")\n",
        "item_qty_input = widgets.IntText(description=\"Quantity:\", value=0)\n",
        "\n",
        "add_button = widgets.Button(description=\"Add Item\")\n",
        "add_button.on_click(add_inventory)\n",
        "\n",
        "update_button = widgets.Button(description=\"Update Item\")\n",
        "update_button.on_click(update_inventory)\n",
        "\n",
        "search_button = widgets.Button(description=\"Search Item\")\n",
        "search_button.on_click(search_inventory)\n",
        "\n",
        "remove_button = widgets.Button(description=\"Remove Item\")\n",
        "remove_button.on_click(remove_inventory)\n",
        "\n",
        "generate_button = widgets.Button(description=\"Show All Stock\")\n",
        "generate_button.on_click(generate_inventory)\n",
        "\n",
        "summary_button = widgets.Button(description=\"Show Summary \")\n",
        "summary_button.on_click(show_inventory_summary)\n",
        "\n",
        "plot_button = widgets.Button(description=\"Show Stock Chart \")\n",
        "plot_button.on_click(plot_stock_levels)\n",
        "\n",
        "result_area = widgets.Textarea(\n",
        "    value=\"FreshMart Inventory System Ready.\",\n",
        "    layout=widgets.Layout(width='60%', height='180px')\n",
        ")"
      ],
      "metadata": {
        "id": "TuNgdMr_Egdv"
      },
      "execution_count": null,
      "outputs": []
    },
    {
      "cell_type": "code",
      "source": [
        "#Layout and Display\n",
        "ui = widgets.VBox([\n",
        "    item_name_input,\n",
        "    item_qty_input,\n",
        "    widgets.HBox([add_button, update_button]),\n",
        "    widgets.HBox([search_button, remove_button]),\n",
        "    generate_button,\n",
        "    widgets.HBox([summary_button, plot_button]),\n",
        "    result_area\n",
        "])\n",
        "\n",
        "display(ui)"
      ],
      "metadata": {
        "id": "lz-tBw6WE-MU"
      },
      "execution_count": null,
      "outputs": []
    }
  ]
}