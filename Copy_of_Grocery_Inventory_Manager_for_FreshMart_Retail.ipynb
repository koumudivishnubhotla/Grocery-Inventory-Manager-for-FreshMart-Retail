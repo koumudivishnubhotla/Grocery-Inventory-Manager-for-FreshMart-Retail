{
  "cells": [
    {
      "cell_type": "markdown",
      "metadata": {
        "id": "view-in-github",
        "colab_type": "text"
      },
      "source": [
        "<a href=\"https://colab.research.google.com/github/koumudivishnubhotla/Grocery-Inventory-Manager-for-FreshMart-Retail/blob/main/Copy_of_Grocery_Inventory_Manager_for_FreshMart_Retail.ipynb\" target=\"_parent\"><img src=\"https://colab.research.google.com/assets/colab-badge.svg\" alt=\"Open In Colab\"/></a>"
      ]
    },
    {
      "cell_type": "code",
      "execution_count": null,
      "id": "823e1de0",
      "metadata": {
        "id": "823e1de0"
      },
      "outputs": [],
      "source": [
        "# 📘 Grocery Inventory Manager for FreshMart Retail\n",
        "print('Hello from YBI Foundation 🚀')"
      ]
    },
    {
      "cell_type": "code",
      "source": [
        "import ipywidgets as widgets\n",
        "from IPython.display import display"
      ],
      "metadata": {
        "id": "MQOdZsBuvBuK"
      },
      "id": "MQOdZsBuvBuK",
      "execution_count": null,
      "outputs": []
    },
    {
      "cell_type": "markdown",
      "source": [
        "Project Name: GROCERY INVENTORY MANAGEMENT"
      ],
      "metadata": {
        "id": "KrEEUJTGvnWn"
      },
      "id": "KrEEUJTGvnWn"
    },
    {
      "cell_type": "markdown",
      "source": [
        "Business Context: FreshMart Retail, a local grocery store chain, needs a system to manage its inventory effectively. This project aims to develop a tool to track grocery stock, monitor purchase status, and reduce overstocking or shortages."
      ],
      "metadata": {
        "id": "RwogV2UCvuE9"
      },
      "id": "RwogV2UCvuE9"
    },
    {
      "cell_type": "code",
      "source": [
        "inventory_file = 'freshmart_inventory.txt'\n",
        "open(inventory_file, 'a').close()"
      ],
      "metadata": {
        "id": "VYWZ3Rrmvzul"
      },
      "id": "VYWZ3Rrmvzul",
      "execution_count": null,
      "outputs": []
    },
    {
      "cell_type": "code",
      "source": [
        "# Stock thresholds (customizable for FreshMart)\n",
        "LOW_STOCK_THRESHOLD = 5\n",
        "OVERSTOCK_THRESHOLD = 100"
      ],
      "metadata": {
        "id": "56ckWzZDv85_"
      },
      "id": "56ckWzZDv85_",
      "execution_count": null,
      "outputs": []
    },
    {
      "cell_type": "code",
      "source": [
        "#Helper Functions\n",
        "def read_inventory():\n",
        "    with open(inventory_file, 'r') as f:\n",
        "        return [line.strip().split(',') for line in f if line.strip()]\n",
        "\n",
        "def write_inventory(data):\n",
        "    with open(inventory_file, 'w') as f:\n",
        "        for name, qty in data:\n",
        "            f.write(f\"{name},{qty}\\n\")"
      ],
      "metadata": {
        "id": "_TehQw3Bv_hm"
      },
      "id": "_TehQw3Bv_hm",
      "execution_count": null,
      "outputs": []
    },
    {
      "cell_type": "code",
      "source": [
        "from google.colab import drive\n",
        "drive.mount('/content/drive')"
      ],
      "metadata": {
        "id": "YhvQV_z0wwKD"
      },
      "id": "YhvQV_z0wwKD",
      "execution_count": null,
      "outputs": []
    },
    {
      "cell_type": "code",
      "source": [
        "#Core Inventory Functions\n",
        "def add_inventory(_):\n",
        "    name = item_name_input.value.strip()\n",
        "    qty = item_qty_input.value\n",
        "    if not name:\n",
        "        result_area.value = \"Please enter a valid item name.\"\n",
        "        return\n",
        "    with open(inventory_file, 'a') as f:\n",
        "        f.write(f\"{name},{qty}\\n\")\n",
        "    result_area.value = f\"Item '{name}' added with quantity {qty}.\"\n",
        "    item_name_input.value, item_qty_input.value = \"\", 0\n",
        "    check_stock_levels(name, qty)\n",
        "\n",
        "def update_inventory(_):\n",
        "    name = item_name_input.value.strip()\n",
        "    qty = str(item_qty_input.value)\n",
        "    data = read_inventory()\n",
        "    updated = False\n",
        "    for i, (item, _) in enumerate(data):\n",
        "        if item == name:\n",
        "            data[i] = (item, qty)\n",
        "            updated = True\n",
        "    write_inventory(data)\n",
        "    result_area.value = f\"{'Updated' if updated else 'Item not found'}: {name}\"\n",
        "    item_name_input.value, item_qty_input.value = \"\", 0\n",
        "    if updated:\n",
        "        check_stock_levels(name, int(qty))\n",
        "\n",
        "def search_inventory(_):\n",
        "    name = item_name_input.value.strip()\n",
        "    for item, qty in read_inventory():\n",
        "        if item == name:\n",
        "            result_area.value = f\"{item} - {qty} units in stock.\"\n",
        "            return\n",
        "    result_area.value = f\"{name} not found in inventory.\"\n",
        "\n",
        "def remove_inventory(_):\n",
        "    name = item_name_input.value.strip()\n",
        "    data = read_inventory()\n",
        "    new_data = [(item, qty) for item, qty in data if item != name]\n",
        "    removed = len(new_data) != len(data)\n",
        "    write_inventory(new_data)\n",
        "    result_area.value = f\"{'Removed' if removed else 'Item not found'}: {name}\"\n",
        "    item_name_input.value, item_qty_input.value = \"\", 0\n",
        "\n",
        "def generate_inventory(_):\n",
        "    data = read_inventory()\n",
        "    if not data:\n",
        "        result_area.value = \"Inventory is currently empty.\"\n",
        "    else:\n",
        "        inventory_text = \"\\n\".join([f\"{item}: {qty} units\" for item, qty in data])\n",
        "        result_area.value = f\"FreshMart Inventory:\\n{inventory_text}\"\n",
        "\n",
        "def check_stock_levels(item_name, qty):\n",
        "    if qty <= LOW_STOCK_THRESHOLD:\n",
        "        result_area.value += f\"\\nWarning: '{item_name}' is running low. Consider reordering.\"\n",
        "    elif qty >= OVERSTOCK_THRESHOLD:\n",
        "        result_area.value += f\"\\nNotice: '{item_name}' may be overstocked. Review purchase strategy.\""
      ],
      "metadata": {
        "id": "0W_qYBfHwEFB"
      },
      "id": "0W_qYBfHwEFB",
      "execution_count": null,
      "outputs": []
    },
    {
      "cell_type": "code",
      "source": [
        "#Widgets\n",
        "item_name_input = widgets.Text(description=\"Item Name:\")\n",
        "item_qty_input = widgets.IntText(description=\"Quantity:\", value=0)\n",
        "\n",
        "add_button = widgets.Button(description=\"Add Item\")\n",
        "add_button.on_click(add_inventory)\n",
        "\n",
        "update_button = widgets.Button(description=\"Update Item\")\n",
        "update_button.on_click(update_inventory)\n",
        "\n",
        "search_button = widgets.Button(description=\"Search Item\")\n",
        "search_button.on_click(search_inventory)\n",
        "\n",
        "remove_button = widgets.Button(description=\"Remove Item\")\n",
        "remove_button.on_click(remove_inventory)\n",
        "\n",
        "generate_button = widgets.Button(description=\"Show All Stock\")\n",
        "generate_button.on_click(generate_inventory)\n",
        "\n",
        "result_area = widgets.Textarea(\n",
        "    value=\"FreshMart Inventory System Ready.\",\n",
        "    layout=widgets.Layout(width='60%', height='180px')\n",
        ")"
      ],
      "metadata": {
        "id": "QzYeVMp9wPiM"
      },
      "id": "QzYeVMp9wPiM",
      "execution_count": null,
      "outputs": []
    },
    {
      "cell_type": "code",
      "source": [
        "#Layout\n",
        "ui = widgets.VBox([\n",
        "    item_name_input,\n",
        "    item_qty_input,\n",
        "    widgets.HBox([add_button, update_button]),\n",
        "    widgets.HBox([search_button, remove_button]),\n",
        "    generate_button,\n",
        "    result_area\n",
        "])\n",
        "\n",
        "display(ui)"
      ],
      "metadata": {
        "id": "NrSXhf5AwS_O"
      },
      "id": "NrSXhf5AwS_O",
      "execution_count": null,
      "outputs": []
    }
  ],
  "metadata": {
    "colab": {
      "provenance": [],
      "include_colab_link": true
    },
    "language_info": {
      "name": "python"
    },
    "kernelspec": {
      "name": "python3",
      "display_name": "Python 3"
    }
  },
  "nbformat": 4,
  "nbformat_minor": 5
}